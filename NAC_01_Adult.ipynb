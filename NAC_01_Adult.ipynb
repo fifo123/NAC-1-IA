{
  "nbformat": 4,
  "nbformat_minor": 0,
  "metadata": {
    "colab": {
      "name": "NAC 01 - Adult.ipynb",
      "provenance": [],
      "collapsed_sections": [
        "qtkeOaGLm91O",
        "LVf4hgcGwyf0",
        "-WMHQB94w4rn",
        "p7iE5zTWOSKv",
        "W_ls0lpX63jj",
        "uyej1G4ItldX"
      ],
      "toc_visible": true
    },
    "kernelspec": {
      "name": "python3",
      "display_name": "Python 3"
    }
  },
  "cells": [
    {
      "cell_type": "markdown",
      "metadata": {
        "id": "ZUFueur0gxCJ",
        "colab_type": "text"
      },
      "source": [
        "<font size='5' color='#afafaf'>NAC 01 - Adult.csv</font><br>\n",
        "\n",
        "---\n",
        "<br>\n",
        "Notebook referente ao desenvolvimento da <b>NAC 01</b> de Inteligência Artificial e computacional. \n",
        "<br>Utilizaremos a csv: 'Adult.csv'.\n",
        "Para sabermos mais sobre o csv deveremos utilizar o seguinte link para informações: <a href='https://archive.ics.uci.edu/ml/datasets/Adult'>Adult.csv more info</a>\n",
        "<br>Necessário desenvolvermos: \n",
        "<li>Análise exploratória dos dados --> Responder três questões semânticas sobre a distribuição dos dados em relação ao objetivo de análise traçado;\n",
        "<li>Construir no notebook a Analise;\n",
        "<li>Construir uma apresentação sobre o trabalho.\n",
        "<br><br>Notebook construído pelos alunos:\n",
        "\n",
        "*   Caio Eguchi Nilson - 81122\n",
        "*   Erick Rozendo Santana Silva - 81508    \n",
        "*   Filipe Lacerda Santos - 81478\n",
        "*   João Vitor de Oliveira Costa - 81683\n",
        "\n"
      ]
    },
    {
      "cell_type": "markdown",
      "metadata": {
        "id": "qtkeOaGLm91O",
        "colab_type": "text"
      },
      "source": [
        "# Introdução e configurando ambiente."
      ]
    },
    {
      "cell_type": "markdown",
      "metadata": {
        "id": "ouA2U_HVjVhb",
        "colab_type": "text"
      },
      "source": [
        "Para o desenvolvimento desse notebook utilizamos o Google Colabs, uma plataforma da google para a criação de notebook. Ele possui características muito parecidas com o Jupyter Notebook, mas a praticidade de utilizar serviços do google e uma maior simplicidade, nos fez optar por utilizar o Colabs.<br><br>Em teoria, todos os códigos rodados aqui deverão rodar em outra plataforma, mas caso aconteça algum tipo de problema, por favor, entrar em contato."
      ]
    },
    {
      "cell_type": "markdown",
      "metadata": {
        "id": "gsK4Uefan7-s",
        "colab_type": "text"
      },
      "source": [
        "Primeiramente iremos adicionar as bibliotecas que estamos considerando utilizar."
      ]
    },
    {
      "cell_type": "code",
      "metadata": {
        "id": "jlOqw5lBnb-b",
        "colab_type": "code",
        "colab": {}
      },
      "source": [
        "# Adicionando as bibliotecas pandas e numpy, para nos auxiliar com as listas.\n",
        "import pandas as pd\n",
        "import numpy as np"
      ],
      "execution_count": 0,
      "outputs": []
    },
    {
      "cell_type": "markdown",
      "metadata": {
        "id": "vJ5N1pvyOC9L",
        "colab_type": "text"
      },
      "source": [
        "Para montarmos o google drive é bastante simples:\n",
        "\n",
        "*   Primeiro precisamos rodar o bloco de código abaixo.\n",
        "*   Logo após isso, clicamos no link que irá aparecer e fazemos logon em uma conta google e permitimos que o google drive seja acessado.\n",
        "*   Depois receberemos um código e iremos colocar no campo requerido.\n",
        "\n",
        "Pronto. Já podemos usar qualquer arquivo que esteja no drive da pessoa logada."
      ]
    },
    {
      "cell_type": "code",
      "metadata": {
        "id": "1-_GNwSiuTAx",
        "colab_type": "code",
        "outputId": "8d664baf-e4ce-4516-adaa-441a61aa4018",
        "colab": {
          "base_uri": "https://localhost:8080/",
          "height": 124
        }
      },
      "source": [
        "# Montando o google drive, para lermos a CSV.\n",
        "from google.colab import drive\n",
        "drive.mount('/content/drive', force_remount=True)"
      ],
      "execution_count": 0,
      "outputs": [
        {
          "output_type": "stream",
          "text": [
            "Go to this URL in a browser: https://accounts.google.com/o/oauth2/auth?client_id=947318989803-6bn6qk8qdgf4n4g3pfee6491hc0brc4i.apps.googleusercontent.com&redirect_uri=urn%3aietf%3awg%3aoauth%3a2.0%3aoob&response_type=code&scope=email%20https%3a%2f%2fwww.googleapis.com%2fauth%2fdocs.test%20https%3a%2f%2fwww.googleapis.com%2fauth%2fdrive%20https%3a%2f%2fwww.googleapis.com%2fauth%2fdrive.photos.readonly%20https%3a%2f%2fwww.googleapis.com%2fauth%2fpeopleapi.readonly\n",
            "\n",
            "Enter your authorization code:\n",
            "··········\n",
            "Mounted at /content/drive\n"
          ],
          "name": "stdout"
        }
      ]
    },
    {
      "cell_type": "code",
      "metadata": {
        "id": "y7Hb5_wKoMi1",
        "colab_type": "code",
        "colab": {}
      },
      "source": [
        "# Lendo a csv, após montar os diretórios do google drive.\n",
        "# Observa-se o uso da biblioteca pandas quando utilizamos o alias pd.\n",
        "# Como estamos utilizando o google drive, o diretorio fica da seguinte maneira:\n",
        "# 'drive/My Drive/' <- padrão 'PastaDoArquivo/Arquivo.csv' <- restante do diretorio\n",
        "# Para a utiização desse notebook, lembre-se de alterar o caminho no código abaixo e de baixar o csv no segundo link abaixo.\n",
        "\n",
        "data = pd.read_csv(\"drive/My Drive/BOBOS/data/adult2.csv\")"
      ],
      "execution_count": 0,
      "outputs": []
    },
    {
      "cell_type": "markdown",
      "metadata": {
        "id": "X96ueiTuQvtD",
        "colab_type": "text"
      },
      "source": [
        "Fazendo uma leitura inicial do csv proposto observamos que ele não possuia os titulos corretos. Por isso editamos e criamos o 'adult2.csv' com os titulos concertados de acordo com o [site.](https://archive.ics.uci.edu/ml/datasets/Adult)\n",
        "<br><br>Para fazer o download do csv que será utilizado na contrução desse notebook [clique aqui.](https://drive.google.com/file/d/1dPY2C7gpRP0RxHNWwG_y8JLW40f0E9FL/view?usp=sharing)\n",
        "\n"
      ]
    },
    {
      "cell_type": "code",
      "metadata": {
        "id": "7GwZ3iBwt4Mk",
        "colab_type": "code",
        "outputId": "0bc55b71-5bc8-424c-b014-b757ea883057",
        "colab": {
          "base_uri": "https://localhost:8080/",
          "height": 395
        }
      },
      "source": [
        "# Começo de nossa analise, lendo as 10 primeiras linhas de nosso dataframe.\n",
        "data.head()"
      ],
      "execution_count": 0,
      "outputs": [
        {
          "output_type": "execute_result",
          "data": {
            "text/html": [
              "<div>\n",
              "<style scoped>\n",
              "    .dataframe tbody tr th:only-of-type {\n",
              "        vertical-align: middle;\n",
              "    }\n",
              "\n",
              "    .dataframe tbody tr th {\n",
              "        vertical-align: top;\n",
              "    }\n",
              "\n",
              "    .dataframe thead th {\n",
              "        text-align: right;\n",
              "    }\n",
              "</style>\n",
              "<table border=\"1\" class=\"dataframe\">\n",
              "  <thead>\n",
              "    <tr style=\"text-align: right;\">\n",
              "      <th></th>\n",
              "      <th>Age</th>\n",
              "      <th>Workclass</th>\n",
              "      <th>fnlwgt</th>\n",
              "      <th>Education</th>\n",
              "      <th>Education-num</th>\n",
              "      <th>Marital-status</th>\n",
              "      <th>Occupation</th>\n",
              "      <th>Relationship</th>\n",
              "      <th>Race</th>\n",
              "      <th>Sex</th>\n",
              "      <th>Capital-gain</th>\n",
              "      <th>Capital-loss</th>\n",
              "      <th>Hours-per-week</th>\n",
              "      <th>Native-country</th>\n",
              "      <th>-</th>\n",
              "    </tr>\n",
              "  </thead>\n",
              "  <tbody>\n",
              "    <tr>\n",
              "      <th>0</th>\n",
              "      <td>39</td>\n",
              "      <td>State-gov</td>\n",
              "      <td>77516</td>\n",
              "      <td>Bachelors</td>\n",
              "      <td>13</td>\n",
              "      <td>Never-married</td>\n",
              "      <td>Adm-clerical</td>\n",
              "      <td>Not-in-family</td>\n",
              "      <td>White</td>\n",
              "      <td>Male</td>\n",
              "      <td>2174</td>\n",
              "      <td>0</td>\n",
              "      <td>40</td>\n",
              "      <td>United-States</td>\n",
              "      <td>&lt;=50K</td>\n",
              "    </tr>\n",
              "    <tr>\n",
              "      <th>1</th>\n",
              "      <td>50</td>\n",
              "      <td>Self-emp-not-inc</td>\n",
              "      <td>83311</td>\n",
              "      <td>Bachelors</td>\n",
              "      <td>13</td>\n",
              "      <td>Married-civ-spouse</td>\n",
              "      <td>Exec-managerial</td>\n",
              "      <td>Husband</td>\n",
              "      <td>White</td>\n",
              "      <td>Male</td>\n",
              "      <td>0</td>\n",
              "      <td>0</td>\n",
              "      <td>13</td>\n",
              "      <td>United-States</td>\n",
              "      <td>&lt;=50K</td>\n",
              "    </tr>\n",
              "    <tr>\n",
              "      <th>2</th>\n",
              "      <td>38</td>\n",
              "      <td>Private</td>\n",
              "      <td>215646</td>\n",
              "      <td>HS-grad</td>\n",
              "      <td>9</td>\n",
              "      <td>Divorced</td>\n",
              "      <td>Handlers-cleaners</td>\n",
              "      <td>Not-in-family</td>\n",
              "      <td>White</td>\n",
              "      <td>Male</td>\n",
              "      <td>0</td>\n",
              "      <td>0</td>\n",
              "      <td>40</td>\n",
              "      <td>United-States</td>\n",
              "      <td>&lt;=50K</td>\n",
              "    </tr>\n",
              "    <tr>\n",
              "      <th>3</th>\n",
              "      <td>53</td>\n",
              "      <td>Private</td>\n",
              "      <td>234721</td>\n",
              "      <td>11th</td>\n",
              "      <td>7</td>\n",
              "      <td>Married-civ-spouse</td>\n",
              "      <td>Handlers-cleaners</td>\n",
              "      <td>Husband</td>\n",
              "      <td>Black</td>\n",
              "      <td>Male</td>\n",
              "      <td>0</td>\n",
              "      <td>0</td>\n",
              "      <td>40</td>\n",
              "      <td>United-States</td>\n",
              "      <td>&lt;=50K</td>\n",
              "    </tr>\n",
              "    <tr>\n",
              "      <th>4</th>\n",
              "      <td>28</td>\n",
              "      <td>Private</td>\n",
              "      <td>338409</td>\n",
              "      <td>Bachelors</td>\n",
              "      <td>13</td>\n",
              "      <td>Married-civ-spouse</td>\n",
              "      <td>Prof-specialty</td>\n",
              "      <td>Wife</td>\n",
              "      <td>Black</td>\n",
              "      <td>Female</td>\n",
              "      <td>0</td>\n",
              "      <td>0</td>\n",
              "      <td>40</td>\n",
              "      <td>Cuba</td>\n",
              "      <td>&lt;=50K</td>\n",
              "    </tr>\n",
              "  </tbody>\n",
              "</table>\n",
              "</div>"
            ],
            "text/plain": [
              "   Age          Workclass  fnlwgt  ... Hours-per-week  Native-country       -\n",
              "0   39          State-gov   77516  ...             40   United-States   <=50K\n",
              "1   50   Self-emp-not-inc   83311  ...             13   United-States   <=50K\n",
              "2   38            Private  215646  ...             40   United-States   <=50K\n",
              "3   53            Private  234721  ...             40   United-States   <=50K\n",
              "4   28            Private  338409  ...             40            Cuba   <=50K\n",
              "\n",
              "[5 rows x 15 columns]"
            ]
          },
          "metadata": {
            "tags": []
          },
          "execution_count": 5
        }
      ]
    },
    {
      "cell_type": "code",
      "metadata": {
        "id": "0IX4mYjRxizC",
        "colab_type": "code",
        "outputId": "24cbf519-af11-43ef-a99f-350068a13fbc",
        "colab": {
          "base_uri": "https://localhost:8080/",
          "height": 705
        }
      },
      "source": [
        "# Agora lendo as ultimas 10 linhas\n",
        "data.tail(10)\n"
      ],
      "execution_count": 0,
      "outputs": [
        {
          "output_type": "execute_result",
          "data": {
            "text/html": [
              "<div>\n",
              "<style scoped>\n",
              "    .dataframe tbody tr th:only-of-type {\n",
              "        vertical-align: middle;\n",
              "    }\n",
              "\n",
              "    .dataframe tbody tr th {\n",
              "        vertical-align: top;\n",
              "    }\n",
              "\n",
              "    .dataframe thead th {\n",
              "        text-align: right;\n",
              "    }\n",
              "</style>\n",
              "<table border=\"1\" class=\"dataframe\">\n",
              "  <thead>\n",
              "    <tr style=\"text-align: right;\">\n",
              "      <th></th>\n",
              "      <th>Age</th>\n",
              "      <th>Workclass</th>\n",
              "      <th>fnlwgt</th>\n",
              "      <th>Education</th>\n",
              "      <th>Education-num</th>\n",
              "      <th>Marital-status</th>\n",
              "      <th>Occupation</th>\n",
              "      <th>Relationship</th>\n",
              "      <th>Race</th>\n",
              "      <th>Sex</th>\n",
              "      <th>Capital-gain</th>\n",
              "      <th>Capital-loss</th>\n",
              "      <th>Hours-per-week</th>\n",
              "      <th>Native-country</th>\n",
              "      <th>-</th>\n",
              "    </tr>\n",
              "  </thead>\n",
              "  <tbody>\n",
              "    <tr>\n",
              "      <th>32551</th>\n",
              "      <td>32</td>\n",
              "      <td>Private</td>\n",
              "      <td>34066</td>\n",
              "      <td>10th</td>\n",
              "      <td>6</td>\n",
              "      <td>Married-civ-spouse</td>\n",
              "      <td>Handlers-cleaners</td>\n",
              "      <td>Husband</td>\n",
              "      <td>Amer-Indian-Eskimo</td>\n",
              "      <td>Male</td>\n",
              "      <td>0</td>\n",
              "      <td>0</td>\n",
              "      <td>40</td>\n",
              "      <td>United-States</td>\n",
              "      <td>&lt;=50K</td>\n",
              "    </tr>\n",
              "    <tr>\n",
              "      <th>32552</th>\n",
              "      <td>43</td>\n",
              "      <td>Private</td>\n",
              "      <td>84661</td>\n",
              "      <td>Assoc-voc</td>\n",
              "      <td>11</td>\n",
              "      <td>Married-civ-spouse</td>\n",
              "      <td>Sales</td>\n",
              "      <td>Husband</td>\n",
              "      <td>White</td>\n",
              "      <td>Male</td>\n",
              "      <td>0</td>\n",
              "      <td>0</td>\n",
              "      <td>45</td>\n",
              "      <td>United-States</td>\n",
              "      <td>&lt;=50K</td>\n",
              "    </tr>\n",
              "    <tr>\n",
              "      <th>32553</th>\n",
              "      <td>32</td>\n",
              "      <td>Private</td>\n",
              "      <td>116138</td>\n",
              "      <td>Masters</td>\n",
              "      <td>14</td>\n",
              "      <td>Never-married</td>\n",
              "      <td>Tech-support</td>\n",
              "      <td>Not-in-family</td>\n",
              "      <td>Asian-Pac-Islander</td>\n",
              "      <td>Male</td>\n",
              "      <td>0</td>\n",
              "      <td>0</td>\n",
              "      <td>11</td>\n",
              "      <td>Taiwan</td>\n",
              "      <td>&lt;=50K</td>\n",
              "    </tr>\n",
              "    <tr>\n",
              "      <th>32554</th>\n",
              "      <td>53</td>\n",
              "      <td>Private</td>\n",
              "      <td>321865</td>\n",
              "      <td>Masters</td>\n",
              "      <td>14</td>\n",
              "      <td>Married-civ-spouse</td>\n",
              "      <td>Exec-managerial</td>\n",
              "      <td>Husband</td>\n",
              "      <td>White</td>\n",
              "      <td>Male</td>\n",
              "      <td>0</td>\n",
              "      <td>0</td>\n",
              "      <td>40</td>\n",
              "      <td>United-States</td>\n",
              "      <td>&gt;50K</td>\n",
              "    </tr>\n",
              "    <tr>\n",
              "      <th>32555</th>\n",
              "      <td>22</td>\n",
              "      <td>Private</td>\n",
              "      <td>310152</td>\n",
              "      <td>Some-college</td>\n",
              "      <td>10</td>\n",
              "      <td>Never-married</td>\n",
              "      <td>Protective-serv</td>\n",
              "      <td>Not-in-family</td>\n",
              "      <td>White</td>\n",
              "      <td>Male</td>\n",
              "      <td>0</td>\n",
              "      <td>0</td>\n",
              "      <td>40</td>\n",
              "      <td>United-States</td>\n",
              "      <td>&lt;=50K</td>\n",
              "    </tr>\n",
              "    <tr>\n",
              "      <th>32556</th>\n",
              "      <td>27</td>\n",
              "      <td>Private</td>\n",
              "      <td>257302</td>\n",
              "      <td>Assoc-acdm</td>\n",
              "      <td>12</td>\n",
              "      <td>Married-civ-spouse</td>\n",
              "      <td>Tech-support</td>\n",
              "      <td>Wife</td>\n",
              "      <td>White</td>\n",
              "      <td>Female</td>\n",
              "      <td>0</td>\n",
              "      <td>0</td>\n",
              "      <td>38</td>\n",
              "      <td>United-States</td>\n",
              "      <td>&lt;=50K</td>\n",
              "    </tr>\n",
              "    <tr>\n",
              "      <th>32557</th>\n",
              "      <td>40</td>\n",
              "      <td>Private</td>\n",
              "      <td>154374</td>\n",
              "      <td>HS-grad</td>\n",
              "      <td>9</td>\n",
              "      <td>Married-civ-spouse</td>\n",
              "      <td>Machine-op-inspct</td>\n",
              "      <td>Husband</td>\n",
              "      <td>White</td>\n",
              "      <td>Male</td>\n",
              "      <td>0</td>\n",
              "      <td>0</td>\n",
              "      <td>40</td>\n",
              "      <td>United-States</td>\n",
              "      <td>&gt;50K</td>\n",
              "    </tr>\n",
              "    <tr>\n",
              "      <th>32558</th>\n",
              "      <td>58</td>\n",
              "      <td>Private</td>\n",
              "      <td>151910</td>\n",
              "      <td>HS-grad</td>\n",
              "      <td>9</td>\n",
              "      <td>Widowed</td>\n",
              "      <td>Adm-clerical</td>\n",
              "      <td>Unmarried</td>\n",
              "      <td>White</td>\n",
              "      <td>Female</td>\n",
              "      <td>0</td>\n",
              "      <td>0</td>\n",
              "      <td>40</td>\n",
              "      <td>United-States</td>\n",
              "      <td>&lt;=50K</td>\n",
              "    </tr>\n",
              "    <tr>\n",
              "      <th>32559</th>\n",
              "      <td>22</td>\n",
              "      <td>Private</td>\n",
              "      <td>201490</td>\n",
              "      <td>HS-grad</td>\n",
              "      <td>9</td>\n",
              "      <td>Never-married</td>\n",
              "      <td>Adm-clerical</td>\n",
              "      <td>Own-child</td>\n",
              "      <td>White</td>\n",
              "      <td>Male</td>\n",
              "      <td>0</td>\n",
              "      <td>0</td>\n",
              "      <td>20</td>\n",
              "      <td>United-States</td>\n",
              "      <td>&lt;=50K</td>\n",
              "    </tr>\n",
              "    <tr>\n",
              "      <th>32560</th>\n",
              "      <td>52</td>\n",
              "      <td>Self-emp-inc</td>\n",
              "      <td>287927</td>\n",
              "      <td>HS-grad</td>\n",
              "      <td>9</td>\n",
              "      <td>Married-civ-spouse</td>\n",
              "      <td>Exec-managerial</td>\n",
              "      <td>Wife</td>\n",
              "      <td>White</td>\n",
              "      <td>Female</td>\n",
              "      <td>15024</td>\n",
              "      <td>0</td>\n",
              "      <td>40</td>\n",
              "      <td>United-States</td>\n",
              "      <td>&gt;50K</td>\n",
              "    </tr>\n",
              "  </tbody>\n",
              "</table>\n",
              "</div>"
            ],
            "text/plain": [
              "       Age      Workclass  fnlwgt  ... Hours-per-week  Native-country       -\n",
              "32551   32        Private   34066  ...             40   United-States   <=50K\n",
              "32552   43        Private   84661  ...             45   United-States   <=50K\n",
              "32553   32        Private  116138  ...             11          Taiwan   <=50K\n",
              "32554   53        Private  321865  ...             40   United-States    >50K\n",
              "32555   22        Private  310152  ...             40   United-States   <=50K\n",
              "32556   27        Private  257302  ...             38   United-States   <=50K\n",
              "32557   40        Private  154374  ...             40   United-States    >50K\n",
              "32558   58        Private  151910  ...             40   United-States   <=50K\n",
              "32559   22        Private  201490  ...             20   United-States   <=50K\n",
              "32560   52   Self-emp-inc  287927  ...             40   United-States    >50K\n",
              "\n",
              "[10 rows x 15 columns]"
            ]
          },
          "metadata": {
            "tags": []
          },
          "execution_count": 6
        }
      ]
    },
    {
      "cell_type": "code",
      "metadata": {
        "id": "DKl233aNuEdt",
        "colab_type": "code",
        "outputId": "955d1b05-ac11-43bf-925c-b0aa4d09c10f",
        "colab": {
          "base_uri": "https://localhost:8080/",
          "height": 206
        }
      },
      "source": [
        "# Dando mais uma olhada inicial no nosso csv, pedindo para que nos mostre 5 linhas aleatórias de nosso dataframe.\n",
        "data.sample(5)"
      ],
      "execution_count": 0,
      "outputs": [
        {
          "output_type": "execute_result",
          "data": {
            "text/html": [
              "<div>\n",
              "<style scoped>\n",
              "    .dataframe tbody tr th:only-of-type {\n",
              "        vertical-align: middle;\n",
              "    }\n",
              "\n",
              "    .dataframe tbody tr th {\n",
              "        vertical-align: top;\n",
              "    }\n",
              "\n",
              "    .dataframe thead th {\n",
              "        text-align: right;\n",
              "    }\n",
              "</style>\n",
              "<table border=\"1\" class=\"dataframe\">\n",
              "  <thead>\n",
              "    <tr style=\"text-align: right;\">\n",
              "      <th></th>\n",
              "      <th>Age</th>\n",
              "      <th>Workclass</th>\n",
              "      <th>fnlwgt</th>\n",
              "      <th>Education</th>\n",
              "      <th>Education-num</th>\n",
              "      <th>Marital-status</th>\n",
              "      <th>Occupation</th>\n",
              "      <th>Relationship</th>\n",
              "      <th>Race</th>\n",
              "      <th>Sex</th>\n",
              "      <th>Capital-gain</th>\n",
              "      <th>Capital-loss</th>\n",
              "      <th>Hours-per-week</th>\n",
              "      <th>Native-country</th>\n",
              "      <th>-</th>\n",
              "    </tr>\n",
              "  </thead>\n",
              "  <tbody>\n",
              "    <tr>\n",
              "      <th>2129</th>\n",
              "      <td>47</td>\n",
              "      <td>State-gov</td>\n",
              "      <td>30575</td>\n",
              "      <td>Some-college</td>\n",
              "      <td>10</td>\n",
              "      <td>Married-civ-spouse</td>\n",
              "      <td>Prof-specialty</td>\n",
              "      <td>Husband</td>\n",
              "      <td>White</td>\n",
              "      <td>Male</td>\n",
              "      <td>0</td>\n",
              "      <td>0</td>\n",
              "      <td>50</td>\n",
              "      <td>United-States</td>\n",
              "      <td>&lt;=50K</td>\n",
              "    </tr>\n",
              "    <tr>\n",
              "      <th>4960</th>\n",
              "      <td>17</td>\n",
              "      <td>Local-gov</td>\n",
              "      <td>246308</td>\n",
              "      <td>11th</td>\n",
              "      <td>7</td>\n",
              "      <td>Never-married</td>\n",
              "      <td>Prof-specialty</td>\n",
              "      <td>Own-child</td>\n",
              "      <td>White</td>\n",
              "      <td>Female</td>\n",
              "      <td>0</td>\n",
              "      <td>0</td>\n",
              "      <td>20</td>\n",
              "      <td>Puerto-Rico</td>\n",
              "      <td>&lt;=50K</td>\n",
              "    </tr>\n",
              "    <tr>\n",
              "      <th>25899</th>\n",
              "      <td>50</td>\n",
              "      <td>Private</td>\n",
              "      <td>169646</td>\n",
              "      <td>Bachelors</td>\n",
              "      <td>13</td>\n",
              "      <td>Separated</td>\n",
              "      <td>Prof-specialty</td>\n",
              "      <td>Unmarried</td>\n",
              "      <td>Asian-Pac-Islander</td>\n",
              "      <td>Female</td>\n",
              "      <td>0</td>\n",
              "      <td>0</td>\n",
              "      <td>40</td>\n",
              "      <td>Philippines</td>\n",
              "      <td>&lt;=50K</td>\n",
              "    </tr>\n",
              "    <tr>\n",
              "      <th>23322</th>\n",
              "      <td>23</td>\n",
              "      <td>Private</td>\n",
              "      <td>391171</td>\n",
              "      <td>Some-college</td>\n",
              "      <td>10</td>\n",
              "      <td>Never-married</td>\n",
              "      <td>Other-service</td>\n",
              "      <td>Not-in-family</td>\n",
              "      <td>Black</td>\n",
              "      <td>Male</td>\n",
              "      <td>0</td>\n",
              "      <td>0</td>\n",
              "      <td>25</td>\n",
              "      <td>United-States</td>\n",
              "      <td>&lt;=50K</td>\n",
              "    </tr>\n",
              "    <tr>\n",
              "      <th>8925</th>\n",
              "      <td>25</td>\n",
              "      <td>Private</td>\n",
              "      <td>135568</td>\n",
              "      <td>HS-grad</td>\n",
              "      <td>9</td>\n",
              "      <td>Married-civ-spouse</td>\n",
              "      <td>Handlers-cleaners</td>\n",
              "      <td>Husband</td>\n",
              "      <td>White</td>\n",
              "      <td>Male</td>\n",
              "      <td>0</td>\n",
              "      <td>0</td>\n",
              "      <td>40</td>\n",
              "      <td>United-States</td>\n",
              "      <td>&lt;=50K</td>\n",
              "    </tr>\n",
              "  </tbody>\n",
              "</table>\n",
              "</div>"
            ],
            "text/plain": [
              "       Age   Workclass  fnlwgt  ... Hours-per-week  Native-country       -\n",
              "2129    47   State-gov   30575  ...             50   United-States   <=50K\n",
              "4960    17   Local-gov  246308  ...             20     Puerto-Rico   <=50K\n",
              "25899   50     Private  169646  ...             40     Philippines   <=50K\n",
              "23322   23     Private  391171  ...             25   United-States   <=50K\n",
              "8925    25     Private  135568  ...             40   United-States   <=50K\n",
              "\n",
              "[5 rows x 15 columns]"
            ]
          },
          "metadata": {
            "tags": []
          },
          "execution_count": 12
        }
      ]
    },
    {
      "cell_type": "code",
      "metadata": {
        "id": "iPjiC8yYu34l",
        "colab_type": "code",
        "outputId": "3f9457e5-9e6e-4268-f2c3-73d1b104f316",
        "colab": {
          "base_uri": "https://localhost:8080/",
          "height": 35
        }
      },
      "source": [
        "# Descobrindo a quantidade de linhas e de colunas do nosso dataframe.\n",
        "data.shape"
      ],
      "execution_count": 0,
      "outputs": [
        {
          "output_type": "execute_result",
          "data": {
            "text/plain": [
              "(32561, 15)"
            ]
          },
          "metadata": {
            "tags": []
          },
          "execution_count": 7
        }
      ]
    },
    {
      "cell_type": "code",
      "metadata": {
        "id": "fTIX5-OkvJmv",
        "colab_type": "code",
        "outputId": "21d9fb26-5854-4f29-cfe7-e28fcd0ca204",
        "colab": {
          "base_uri": "https://localhost:8080/",
          "height": 109
        }
      },
      "source": [
        "# Descobrindo as colunas de nosso dataframe\n",
        "data.columns"
      ],
      "execution_count": 0,
      "outputs": [
        {
          "output_type": "execute_result",
          "data": {
            "text/plain": [
              "Index(['Age', 'Workclass', 'fnlwgt', 'Education', 'Education-num',\n",
              "       'Marital-status', 'Occupation', 'Relationship', 'Race', 'Sex',\n",
              "       'Capital-gain', 'Capital-loss', 'Hours-per-week', 'Native-country',\n",
              "       ' -'],\n",
              "      dtype='object')"
            ]
          },
          "metadata": {
            "tags": []
          },
          "execution_count": 14
        }
      ]
    },
    {
      "cell_type": "code",
      "metadata": {
        "id": "5tTpkxljveWU",
        "colab_type": "code",
        "outputId": "984c45fc-1df6-49c3-f215-b39abb22d6ee",
        "colab": {
          "base_uri": "https://localhost:8080/",
          "height": 421
        }
      },
      "source": [
        "# Descobrindo informações mais técnicas do nosso dataframe, como por exemplo o tipo da váriavel de cada coluna.\n",
        "data.info()"
      ],
      "execution_count": 0,
      "outputs": [
        {
          "output_type": "stream",
          "text": [
            "<class 'pandas.core.frame.DataFrame'>\n",
            "RangeIndex: 32561 entries, 0 to 32560\n",
            "Data columns (total 15 columns):\n",
            " #   Column          Non-Null Count  Dtype \n",
            "---  ------          --------------  ----- \n",
            " 0   Age             32561 non-null  int64 \n",
            " 1   Workclass       32561 non-null  object\n",
            " 2   fnlwgt          32561 non-null  int64 \n",
            " 3   Education       32561 non-null  object\n",
            " 4   Education-num   32561 non-null  int64 \n",
            " 5   Marital-status  32561 non-null  object\n",
            " 6   Occupation      32561 non-null  object\n",
            " 7   Relationship    32561 non-null  object\n",
            " 8   Race            32561 non-null  object\n",
            " 9   Sex             32561 non-null  object\n",
            " 10  Capital-gain    32561 non-null  int64 \n",
            " 11  Capital-loss    32561 non-null  int64 \n",
            " 12  Hours-per-week  32561 non-null  int64 \n",
            " 13  Native-country  32561 non-null  object\n",
            " 14   -              32561 non-null  object\n",
            "dtypes: int64(6), object(9)\n",
            "memory usage: 3.7+ MB\n"
          ],
          "name": "stdout"
        }
      ]
    },
    {
      "cell_type": "markdown",
      "metadata": {
        "id": "PqBThB94v85e",
        "colab_type": "text"
      },
      "source": [
        "Fim da Introdução e configuração de nossas bibliotecas e dataframes.\n",
        "<br>A partir da proxima sessão, já poderemos por a mão na massa e começar a analisar o dataframe proposto."
      ]
    },
    {
      "cell_type": "markdown",
      "metadata": {
        "id": "LVf4hgcGwyf0",
        "colab_type": "text"
      },
      "source": [
        "# Desenvolvimento"
      ]
    },
    {
      "cell_type": "markdown",
      "metadata": {
        "id": "q-pgEWTlxCsw",
        "colab_type": "text"
      },
      "source": [
        "A partir das proximas sessões exploraremos mais as possibilidades do nosso dataframe e desenvolveremos as questões semânticas."
      ]
    },
    {
      "cell_type": "markdown",
      "metadata": {
        "id": "-WMHQB94w4rn",
        "colab_type": "text"
      },
      "source": [
        "## 1ª Questão semântica: Qual sexo ganha mais, segundo esse dataframe?"
      ]
    },
    {
      "cell_type": "markdown",
      "metadata": {
        "id": "WzX_AqMtq0OP",
        "colab_type": "text"
      },
      "source": [
        "Segundo diversas matérias¹, as mulheres mesmo com maior grau de escolaridade, e atuando no mesmo cargo, ainda sim ganham menos que os homens. E a questão que queremos responder é se no dataframe isso se repete.\n",
        "<br>Lembrando que, esse dataframe foi feito no ano de 1994 por Barry Becker, e a intenção da pesquisa foi descobrir se uma pessoa ganha mais de 50 mil dolares por ano. Essas informações você consegue encontrar [aqui.](https://archive.ics.uci.edu/ml/datasets/Adult)\n",
        "\n",
        "\n",
        "\n",
        "\n",
        "<br>\n",
        "¹ Os links para essas matérias você poderá encontrar na sessão Bibliografia."
      ]
    },
    {
      "cell_type": "markdown",
      "metadata": {
        "id": "q1g0hjFO5pyT",
        "colab_type": "text"
      },
      "source": [
        "Trazendo o resultado de todas as mulheres, para ter uma noção mais clara da análise."
      ]
    },
    {
      "cell_type": "code",
      "metadata": {
        "id": "PXXMdS_p_vmn",
        "colab_type": "code",
        "outputId": "a8123192-8faf-4f59-9421-db18abe375e3",
        "colab": {
          "base_uri": "https://localhost:8080/",
          "height": 415
        }
      },
      "source": [
        "data.loc[((data.Sex == \" Female\")), [\"Age\", \"Sex\", \" -\"]]"
      ],
      "execution_count": 0,
      "outputs": [
        {
          "output_type": "execute_result",
          "data": {
            "text/html": [
              "<div>\n",
              "<style scoped>\n",
              "    .dataframe tbody tr th:only-of-type {\n",
              "        vertical-align: middle;\n",
              "    }\n",
              "\n",
              "    .dataframe tbody tr th {\n",
              "        vertical-align: top;\n",
              "    }\n",
              "\n",
              "    .dataframe thead th {\n",
              "        text-align: right;\n",
              "    }\n",
              "</style>\n",
              "<table border=\"1\" class=\"dataframe\">\n",
              "  <thead>\n",
              "    <tr style=\"text-align: right;\">\n",
              "      <th></th>\n",
              "      <th>Age</th>\n",
              "      <th>Sex</th>\n",
              "      <th>-</th>\n",
              "    </tr>\n",
              "  </thead>\n",
              "  <tbody>\n",
              "    <tr>\n",
              "      <th>4</th>\n",
              "      <td>28</td>\n",
              "      <td>Female</td>\n",
              "      <td>&lt;=50K</td>\n",
              "    </tr>\n",
              "    <tr>\n",
              "      <th>5</th>\n",
              "      <td>37</td>\n",
              "      <td>Female</td>\n",
              "      <td>&lt;=50K</td>\n",
              "    </tr>\n",
              "    <tr>\n",
              "      <th>6</th>\n",
              "      <td>49</td>\n",
              "      <td>Female</td>\n",
              "      <td>&lt;=50K</td>\n",
              "    </tr>\n",
              "    <tr>\n",
              "      <th>8</th>\n",
              "      <td>31</td>\n",
              "      <td>Female</td>\n",
              "      <td>&gt;50K</td>\n",
              "    </tr>\n",
              "    <tr>\n",
              "      <th>12</th>\n",
              "      <td>23</td>\n",
              "      <td>Female</td>\n",
              "      <td>&lt;=50K</td>\n",
              "    </tr>\n",
              "    <tr>\n",
              "      <th>...</th>\n",
              "      <td>...</td>\n",
              "      <td>...</td>\n",
              "      <td>...</td>\n",
              "    </tr>\n",
              "    <tr>\n",
              "      <th>32546</th>\n",
              "      <td>37</td>\n",
              "      <td>Female</td>\n",
              "      <td>&lt;=50K</td>\n",
              "    </tr>\n",
              "    <tr>\n",
              "      <th>32549</th>\n",
              "      <td>43</td>\n",
              "      <td>Female</td>\n",
              "      <td>&lt;=50K</td>\n",
              "    </tr>\n",
              "    <tr>\n",
              "      <th>32556</th>\n",
              "      <td>27</td>\n",
              "      <td>Female</td>\n",
              "      <td>&lt;=50K</td>\n",
              "    </tr>\n",
              "    <tr>\n",
              "      <th>32558</th>\n",
              "      <td>58</td>\n",
              "      <td>Female</td>\n",
              "      <td>&lt;=50K</td>\n",
              "    </tr>\n",
              "    <tr>\n",
              "      <th>32560</th>\n",
              "      <td>52</td>\n",
              "      <td>Female</td>\n",
              "      <td>&gt;50K</td>\n",
              "    </tr>\n",
              "  </tbody>\n",
              "</table>\n",
              "<p>10771 rows × 3 columns</p>\n",
              "</div>"
            ],
            "text/plain": [
              "       Age      Sex       -\n",
              "4       28   Female   <=50K\n",
              "5       37   Female   <=50K\n",
              "6       49   Female   <=50K\n",
              "8       31   Female    >50K\n",
              "12      23   Female   <=50K\n",
              "...    ...      ...     ...\n",
              "32546   37   Female   <=50K\n",
              "32549   43   Female   <=50K\n",
              "32556   27   Female   <=50K\n",
              "32558   58   Female   <=50K\n",
              "32560   52   Female    >50K\n",
              "\n",
              "[10771 rows x 3 columns]"
            ]
          },
          "metadata": {
            "tags": []
          },
          "execution_count": 8
        }
      ]
    },
    {
      "cell_type": "markdown",
      "metadata": {
        "id": "ccosFAtu9wG2",
        "colab_type": "text"
      },
      "source": [
        "Os códigos abaixo tem o seguinte objetivo:\n",
        "\n",
        "1.   Criar uma máscara, selecionando apenas os dados que possuem o campo Sex igual a Female, ou seja, ele seleciona todas as mulheres;\n",
        "\n",
        "```\n",
        "mascara1 = (data.Sex == \" Female\")\n",
        "```\n",
        "\n",
        "2.   Criar um dataframe apenas com as mulheres;\n",
        "\n",
        "```\n",
        "mulheres = data.loc[mascara1, :]\n",
        "```\n",
        "\n",
        "3.   Descobrir quantas mulheres possuem na pesquisa.\n",
        "\n",
        "```\n",
        "qtd_mulheres = mulheres.shape[0]\n",
        "qtd_mulheres\n",
        "```"
      ]
    },
    {
      "cell_type": "code",
      "metadata": {
        "id": "IbpbleIn1S3p",
        "colab_type": "code",
        "outputId": "f70e019d-c052-4d3f-f1f9-87b6634d7717",
        "colab": {
          "base_uri": "https://localhost:8080/",
          "height": 35
        }
      },
      "source": [
        "mascara1 = (data.Sex == \" Female\")\n",
        "mulheres = data.loc[mascara1, :]\n",
        "qtd_mulheres = mulheres.shape[0]\n",
        "qtd_mulheres"
      ],
      "execution_count": 0,
      "outputs": [
        {
          "output_type": "execute_result",
          "data": {
            "text/plain": [
              "10771"
            ]
          },
          "metadata": {
            "tags": []
          },
          "execution_count": 9
        }
      ]
    },
    {
      "cell_type": "markdown",
      "metadata": {
        "id": "_-vW0Fn8-9nv",
        "colab_type": "text"
      },
      "source": [
        "Dessa maneira, descobrimos que possuimos **10771** mulheres no nosso dataframe.\n",
        "\n",
        "\n",
        "---"
      ]
    },
    {
      "cell_type": "markdown",
      "metadata": {
        "id": "ysCUQN3fCr30",
        "colab_type": "text"
      },
      "source": [
        "Agora, vamos analisar a faixa salarial anual das mulheres.\n",
        "\n",
        "O objetivo dos codigos abaixo são:\n",
        "\n",
        "1.   Criar uma máscara, selecionando apenas os dados que possuem o campo Sex igual a Female e o Salario Anual acima de 50k, ou seja, ele seleciona todas as mulheres que recebem acima de 50 mil.\n",
        "\n",
        "```\n",
        "mascara2 = (data.Sex == \" Female\")&(data[\" -\"] == \" >50K\")\n",
        "```\n",
        "\n",
        "\n",
        "2.   Criando um dataframe com os resultados obtidos:\n",
        "\n",
        "```\n",
        "mulheres_maior_50k = data.loc[mascara2, :]\n",
        "```\n",
        "\n",
        "3. Exibir os resultados obtidos:\n",
        "\n",
        "```\n",
        "qtd_mulheres_maior = mulheres_maior_50k.shape[0]\n",
        "qtd_mulheres_maior\n",
        "```\n"
      ]
    },
    {
      "cell_type": "code",
      "metadata": {
        "id": "THj6zo0w0ZKV",
        "colab_type": "code",
        "outputId": "a2bae475-a6ce-4fc6-832c-40195587bd38",
        "colab": {
          "base_uri": "https://localhost:8080/",
          "height": 35
        }
      },
      "source": [
        "mascara2 = (data.Sex == \" Female\")&(data[\" -\"] == \" >50K\")\n",
        "mulheres_maior_50k = data.loc[mascara2, :]\n",
        "qtd_mulheres_maior = mulheres_maior_50k.shape[0]\n",
        "qtd_mulheres_maior"
      ],
      "execution_count": 0,
      "outputs": [
        {
          "output_type": "execute_result",
          "data": {
            "text/plain": [
              "1179"
            ]
          },
          "metadata": {
            "tags": []
          },
          "execution_count": 10
        }
      ]
    },
    {
      "cell_type": "markdown",
      "metadata": {
        "id": "nzo5j8TmFEJk",
        "colab_type": "text"
      },
      "source": [
        "Dessa maneira, descobrimos que possuimos **1179** mulheres no nosso dataframe que recebem acima de 50 mil por ano.\n",
        "\n",
        "\n",
        "---\n",
        "\n",
        "\n",
        "Agora iremos realizar a mesma consulta que fizemos acima, porém, retornando o número de mulheres que recebem abaixo de 50 mil por ano:"
      ]
    },
    {
      "cell_type": "code",
      "metadata": {
        "id": "hZjUcmxP2KRV",
        "colab_type": "code",
        "outputId": "330e2f9b-47a4-4211-b155-035d9a41da36",
        "colab": {
          "base_uri": "https://localhost:8080/",
          "height": 35
        }
      },
      "source": [
        "mascara3 = (data.Sex == \" Female\")&(data[\" -\"] == \" <=50K\")\n",
        "mulheres_menor_50k = data.loc[mascara3, :]\n",
        "qtd_mulheres_menor = mulheres_menor_50k.shape[0]\n",
        "qtd_mulheres_menor"
      ],
      "execution_count": 0,
      "outputs": [
        {
          "output_type": "execute_result",
          "data": {
            "text/plain": [
              "9592"
            ]
          },
          "metadata": {
            "tags": []
          },
          "execution_count": 11
        }
      ]
    },
    {
      "cell_type": "markdown",
      "metadata": {
        "id": "C9v6DF2UHniO",
        "colab_type": "text"
      },
      "source": [
        "Dessa maneira, descobrimos que possuimos 9592 mulheres no nosso dataframe que recebem acima de 50 mil por ano.\n",
        "\n",
        "---\n",
        "\n",
        "\n",
        "\n",
        "\n"
      ]
    },
    {
      "cell_type": "markdown",
      "metadata": {
        "id": "xlpnjhNnHJlr",
        "colab_type": "text"
      },
      "source": [
        "Vamos calcular a porcentagem de mulheres que recebem acima e abaixo de 50 mil por ano:\n",
        "\n",
        "\n",
        "1.   Acima de 50 mil:\n",
        "\n",
        "```\n",
        "porcentagem_mulheres_maior = (qtd_mulheres_maior * 100) / qtd_mulheres\n",
        "porcentagem_mulheres_maior\n",
        "```\n",
        "\n",
        "\n",
        "2.   Abaixo de 50 mil:\n",
        "\n",
        "```\n",
        "porcentagem_mulheres_menor = (qtd_mulheres_menor * 100) / qtd_mulheres\n",
        "porcentagem_mulheres_menor\n",
        "```"
      ]
    },
    {
      "cell_type": "code",
      "metadata": {
        "id": "uZPExvME7pkQ",
        "colab_type": "code",
        "outputId": "37cf78e5-d378-4b6e-d78a-a1bf63a685bb",
        "colab": {
          "base_uri": "https://localhost:8080/",
          "height": 35
        }
      },
      "source": [
        "porcentagem_mulheres_maior = (qtd_mulheres_maior * 100) / qtd_mulheres\n",
        "porcentagem_mulheres_maior"
      ],
      "execution_count": 0,
      "outputs": [
        {
          "output_type": "execute_result",
          "data": {
            "text/plain": [
              "10.946058861758425"
            ]
          },
          "metadata": {
            "tags": []
          },
          "execution_count": 12
        }
      ]
    },
    {
      "cell_type": "code",
      "metadata": {
        "id": "Xw-HQm8C77iJ",
        "colab_type": "code",
        "outputId": "6b5a91c7-8bae-4d7d-9ca9-ca1b42ef4460",
        "colab": {
          "base_uri": "https://localhost:8080/",
          "height": 35
        }
      },
      "source": [
        "porcentagem_mulheres_menor = (qtd_mulheres_menor * 100) / qtd_mulheres\n",
        "porcentagem_mulheres_menor"
      ],
      "execution_count": 0,
      "outputs": [
        {
          "output_type": "execute_result",
          "data": {
            "text/plain": [
              "89.05394113824157"
            ]
          },
          "metadata": {
            "tags": []
          },
          "execution_count": 13
        }
      ]
    },
    {
      "cell_type": "markdown",
      "metadata": {
        "id": "EkUBTvGmIHTj",
        "colab_type": "text"
      },
      "source": [
        "Obtivemos os seguintes resultados:\n",
        "\n",
        "1.   Mulheres que recebem acima de 50 mil: ~11%\n",
        "2.   Mulheres que recebem abaixo de 50 mil: ~89%\n",
        "\n",
        "\n",
        "---\n",
        "\n",
        "\n",
        "\n",
        "---\n"
      ]
    },
    {
      "cell_type": "markdown",
      "metadata": {
        "id": "W3N33BBdIwHT",
        "colab_type": "text"
      },
      "source": [
        "Agora vamos trazer o resultado de todos os homens, para ter uma noção mais clara da análise."
      ]
    },
    {
      "cell_type": "code",
      "metadata": {
        "id": "WsNjrW1Y6Le0",
        "colab_type": "code",
        "outputId": "73c794d1-d4eb-4acb-da7d-e350fd666e79",
        "colab": {
          "base_uri": "https://localhost:8080/",
          "height": 415
        }
      },
      "source": [
        "data.loc[((data.Sex == \" Male\")), [\"Age\", \"Sex\", \" -\"]]"
      ],
      "execution_count": 0,
      "outputs": [
        {
          "output_type": "execute_result",
          "data": {
            "text/html": [
              "<div>\n",
              "<style scoped>\n",
              "    .dataframe tbody tr th:only-of-type {\n",
              "        vertical-align: middle;\n",
              "    }\n",
              "\n",
              "    .dataframe tbody tr th {\n",
              "        vertical-align: top;\n",
              "    }\n",
              "\n",
              "    .dataframe thead th {\n",
              "        text-align: right;\n",
              "    }\n",
              "</style>\n",
              "<table border=\"1\" class=\"dataframe\">\n",
              "  <thead>\n",
              "    <tr style=\"text-align: right;\">\n",
              "      <th></th>\n",
              "      <th>Age</th>\n",
              "      <th>Sex</th>\n",
              "      <th>-</th>\n",
              "    </tr>\n",
              "  </thead>\n",
              "  <tbody>\n",
              "    <tr>\n",
              "      <th>0</th>\n",
              "      <td>39</td>\n",
              "      <td>Male</td>\n",
              "      <td>&lt;=50K</td>\n",
              "    </tr>\n",
              "    <tr>\n",
              "      <th>1</th>\n",
              "      <td>50</td>\n",
              "      <td>Male</td>\n",
              "      <td>&lt;=50K</td>\n",
              "    </tr>\n",
              "    <tr>\n",
              "      <th>2</th>\n",
              "      <td>38</td>\n",
              "      <td>Male</td>\n",
              "      <td>&lt;=50K</td>\n",
              "    </tr>\n",
              "    <tr>\n",
              "      <th>3</th>\n",
              "      <td>53</td>\n",
              "      <td>Male</td>\n",
              "      <td>&lt;=50K</td>\n",
              "    </tr>\n",
              "    <tr>\n",
              "      <th>7</th>\n",
              "      <td>52</td>\n",
              "      <td>Male</td>\n",
              "      <td>&gt;50K</td>\n",
              "    </tr>\n",
              "    <tr>\n",
              "      <th>...</th>\n",
              "      <td>...</td>\n",
              "      <td>...</td>\n",
              "      <td>...</td>\n",
              "    </tr>\n",
              "    <tr>\n",
              "      <th>32553</th>\n",
              "      <td>32</td>\n",
              "      <td>Male</td>\n",
              "      <td>&lt;=50K</td>\n",
              "    </tr>\n",
              "    <tr>\n",
              "      <th>32554</th>\n",
              "      <td>53</td>\n",
              "      <td>Male</td>\n",
              "      <td>&gt;50K</td>\n",
              "    </tr>\n",
              "    <tr>\n",
              "      <th>32555</th>\n",
              "      <td>22</td>\n",
              "      <td>Male</td>\n",
              "      <td>&lt;=50K</td>\n",
              "    </tr>\n",
              "    <tr>\n",
              "      <th>32557</th>\n",
              "      <td>40</td>\n",
              "      <td>Male</td>\n",
              "      <td>&gt;50K</td>\n",
              "    </tr>\n",
              "    <tr>\n",
              "      <th>32559</th>\n",
              "      <td>22</td>\n",
              "      <td>Male</td>\n",
              "      <td>&lt;=50K</td>\n",
              "    </tr>\n",
              "  </tbody>\n",
              "</table>\n",
              "<p>21790 rows × 3 columns</p>\n",
              "</div>"
            ],
            "text/plain": [
              "       Age    Sex       -\n",
              "0       39   Male   <=50K\n",
              "1       50   Male   <=50K\n",
              "2       38   Male   <=50K\n",
              "3       53   Male   <=50K\n",
              "7       52   Male    >50K\n",
              "...    ...    ...     ...\n",
              "32553   32   Male   <=50K\n",
              "32554   53   Male    >50K\n",
              "32555   22   Male   <=50K\n",
              "32557   40   Male    >50K\n",
              "32559   22   Male   <=50K\n",
              "\n",
              "[21790 rows x 3 columns]"
            ]
          },
          "metadata": {
            "tags": []
          },
          "execution_count": 14
        }
      ]
    },
    {
      "cell_type": "markdown",
      "metadata": {
        "id": "tjI-07R6I8_C",
        "colab_type": "text"
      },
      "source": [
        "Os códigos abaixo tem o seguinte objetivo:\n",
        "\n",
        "1.   Criar uma máscara, selecionando apenas os dados que possuem o campo Sex igual a Male, ou seja, ele seleciona todos os homens;\n",
        "\n",
        "```\n",
        "mascara4 = (data.Sex == \" Male\")\n",
        "```\n",
        "\n",
        "2.   Criar um dataframe apenas com os homens;\n",
        "\n",
        "```\n",
        "homens = data.loc[mascara4, :]\n",
        "```\n",
        "\n",
        "3.   Descobrir quantos homens possuem a pesquisa.\n",
        "\n",
        "```\n",
        "qtd_homens = homens.shape[0]\n",
        "qtd_homens\n",
        "```"
      ]
    },
    {
      "cell_type": "code",
      "metadata": {
        "id": "-uFGkaIk28m0",
        "colab_type": "code",
        "outputId": "4bfcd370-2f81-4898-8593-cb26bca048dd",
        "colab": {
          "base_uri": "https://localhost:8080/",
          "height": 35
        }
      },
      "source": [
        "mascara4 = (data.Sex == \" Male\")\n",
        "homens = data.loc[mascara4, :]\n",
        "qtd_homens = homens.shape[0]\n",
        "qtd_homens"
      ],
      "execution_count": 0,
      "outputs": [
        {
          "output_type": "execute_result",
          "data": {
            "text/plain": [
              "21790"
            ]
          },
          "metadata": {
            "tags": []
          },
          "execution_count": 15
        }
      ]
    },
    {
      "cell_type": "markdown",
      "metadata": {
        "id": "CWFwA28SJ9Tk",
        "colab_type": "text"
      },
      "source": [
        "Dessa maneira, descobrimos que possuimos 21790 homens no nosso dataframe.\n",
        "\n",
        "---\n",
        "Agora, vamos analisar a faixa salarial anual dos homens.\n",
        "\n",
        "O objetivo dos codigos abaixo são:\n",
        "\n",
        "1.   Criar uma máscara, selecionando apenas os dados que possuem o campo Sex igual a Male e o Salario Anual acima de 50k, ou seja, ele seleciona todos os homens que recebem acima de 50 mil.\n",
        "\n",
        "```\n",
        "mascara5 = (data.Sex == \" Male\")&(data[\" -\"] == \" >50K\")\n",
        "```\n",
        "\n",
        "\n",
        "2.   Criando um dataframe com os resultados obtidos:\n",
        "\n",
        "```\n",
        "homens_maior_50k = data.loc[mascara5, :]\n",
        "```\n",
        "\n",
        "3. Exibir os resultados obtidos:\n",
        "\n",
        "```\n",
        "qtd_homens_maior = homens_maior_50k.shape[0]\n",
        "qtd_homens_maior\n",
        "```\n"
      ]
    },
    {
      "cell_type": "code",
      "metadata": {
        "id": "gmKPggF32nC8",
        "colab_type": "code",
        "outputId": "3f2cb1d0-5b97-4308-b7d3-9b175e5b036c",
        "colab": {
          "base_uri": "https://localhost:8080/",
          "height": 35
        }
      },
      "source": [
        "mascara5 = (data.Sex == \" Male\")&(data[\" -\"] == \" >50K\")\n",
        "homens_maior_50k = data.loc[mascara5, :]\n",
        "qtd_homens_maior = homens_maior_50k.shape[0]\n",
        "qtd_homens_maior"
      ],
      "execution_count": 0,
      "outputs": [
        {
          "output_type": "execute_result",
          "data": {
            "text/plain": [
              "6662"
            ]
          },
          "metadata": {
            "tags": []
          },
          "execution_count": 16
        }
      ]
    },
    {
      "cell_type": "markdown",
      "metadata": {
        "id": "OjKHGdR-LBrb",
        "colab_type": "text"
      },
      "source": [
        "Dessa maneira, descobrimos que possuimos **6662** homens no nosso dataframe que recebem acima de 50 mil por ano.\n",
        "\n",
        "\n",
        "---\n",
        "\n",
        "\n",
        "Agora iremos realizar a mesma consulta que fizemos acima, porém, retornando o número de homens que recebem abaixo de 50 mil por ano:"
      ]
    },
    {
      "cell_type": "code",
      "metadata": {
        "id": "Rc-f3r5e3bpH",
        "colab_type": "code",
        "outputId": "555e2743-d567-433e-cea8-7f005bb44450",
        "colab": {
          "base_uri": "https://localhost:8080/",
          "height": 35
        }
      },
      "source": [
        "mascara6 = (data.Sex == \" Male\")&(data[\" -\"] == \" <=50K\")\n",
        "homens_menor_50k = data.loc[mascara6, :]\n",
        "qtd_homens_menor = homens_menor_50k.shape[0]\n",
        "qtd_homens_menor"
      ],
      "execution_count": 0,
      "outputs": [
        {
          "output_type": "execute_result",
          "data": {
            "text/plain": [
              "15128"
            ]
          },
          "metadata": {
            "tags": []
          },
          "execution_count": 17
        }
      ]
    },
    {
      "cell_type": "markdown",
      "metadata": {
        "id": "lNFuPz-TLJpt",
        "colab_type": "text"
      },
      "source": [
        "Descobrimos que possuimos **15128** homens no nosso dataframe que recebem acima de 50 mil por ano.\n",
        "\n",
        "---\n",
        "Vamos calcular a porcentagem de homens que recebem acima e abaixo de 50 mil por ano:\n",
        "\n",
        "\n",
        "1.   Acima de 50 mil:\n",
        "\n",
        "```\n",
        "porcentagem_homens_maior = (qtd_homens_maior * 100) / qtd_homens\n",
        "porcentagem_homens_maior\n",
        "```\n",
        "\n",
        "\n",
        "2.   Abaixo de 50 mil:\n",
        "\n",
        "```\n",
        "porcentagem_homens_menor = (qtd_homens_menor * 100) / qtd_homens\n",
        "porcentagem_homens_menor\n",
        "```\n"
      ]
    },
    {
      "cell_type": "code",
      "metadata": {
        "id": "6_O1kUDd7JUD",
        "colab_type": "code",
        "outputId": "db349ec6-b2e5-400f-babf-1db558cd46c3",
        "colab": {
          "base_uri": "https://localhost:8080/",
          "height": 35
        }
      },
      "source": [
        "porcentagem_homens_maior = (qtd_homens_maior * 100) / qtd_homens\n",
        "porcentagem_homens_maior"
      ],
      "execution_count": 0,
      "outputs": [
        {
          "output_type": "execute_result",
          "data": {
            "text/plain": [
              "30.57365764111978"
            ]
          },
          "metadata": {
            "tags": []
          },
          "execution_count": 18
        }
      ]
    },
    {
      "cell_type": "code",
      "metadata": {
        "id": "72zVRLbr7XaW",
        "colab_type": "code",
        "outputId": "20c876e2-5cf3-46b3-ffc8-7367b8a2722a",
        "colab": {
          "base_uri": "https://localhost:8080/",
          "height": 35
        }
      },
      "source": [
        "porcentagem_homens_menor = (qtd_homens_menor * 100) / qtd_homens\n",
        "porcentagem_homens_menor"
      ],
      "execution_count": 0,
      "outputs": [
        {
          "output_type": "execute_result",
          "data": {
            "text/plain": [
              "69.42634235888022"
            ]
          },
          "metadata": {
            "tags": []
          },
          "execution_count": 19
        }
      ]
    },
    {
      "cell_type": "markdown",
      "metadata": {
        "id": "eLXwuf1nLlK8",
        "colab_type": "text"
      },
      "source": [
        "Obtivemos os seguintes resultados:\n",
        "\n",
        "1.   Homens que recebem acima de 50 mil: ~31%\n",
        "2.   Homens que recebem abaixo de 50 mil: ~69%\n",
        "\n",
        "\n",
        "---\n",
        "\n",
        "\n",
        "\n",
        "---\n",
        "\n",
        "\n",
        "\n"
      ]
    },
    {
      "cell_type": "code",
      "metadata": {
        "id": "odN2wbRwGVPI",
        "colab_type": "code",
        "outputId": "d6091907-0426-4342-92e3-5358b791a7f9",
        "colab": {
          "base_uri": "https://localhost:8080/",
          "height": 72
        }
      },
      "source": [
        "# Implementando bibliotecas\n",
        "import matplotlib.pyplot as plt\n",
        "from scipy import stats\n",
        "\n",
        "import seaborn as sns\n",
        "sns.set()"
      ],
      "execution_count": 0,
      "outputs": [
        {
          "output_type": "stream",
          "text": [
            "/usr/local/lib/python3.6/dist-packages/statsmodels/tools/_testing.py:19: FutureWarning: pandas.util.testing is deprecated. Use the functions in the public API at pandas.testing instead.\n",
            "  import pandas.util.testing as tm\n"
          ],
          "name": "stderr"
        }
      ]
    },
    {
      "cell_type": "markdown",
      "metadata": {
        "id": "oFuaymmgNL4T",
        "colab_type": "text"
      },
      "source": [
        "O gráfico abaixo demonstra a porcentagem do ganho anual por sexo:"
      ]
    },
    {
      "cell_type": "code",
      "metadata": {
        "id": "wzLpLKhAGlom",
        "colab_type": "code",
        "outputId": "c0b55c4b-d975-424c-a34f-70ce91f0bd52",
        "colab": {
          "base_uri": "https://localhost:8080/",
          "height": 319
        }
      },
      "source": [
        "#Definindo a quantidade de barras \n",
        "left = [1, 2, 3, 4]\n",
        "\n",
        "#Definindo as alturas de cada barra\n",
        "height = [porcentagem_mulheres_menor, porcentagem_mulheres_maior, porcentagem_homens_menor, porcentagem_homens_maior] \n",
        "  \n",
        "#Legenda de Cada barra\n",
        "tick_label = ['M <=50k', 'M >50k', 'H <=50k', 'H >50k'] \n",
        "  \n",
        "#Plotando o gráfico\n",
        "plt.bar(left, height, tick_label = tick_label, \n",
        "        width = 0.6, color = ['#ff5e5e', '#ff5e5e','#7ab0eb','#7ab0eb']) \n",
        "#Nomeando o eixo X \n",
        "plt.xlabel('Sexo') \n",
        "#Nomeando o eixo Y\n",
        "plt.ylabel('%') \n",
        "#Nomeando o Titulo\n",
        "plt.title('% de ganho por ano, por cada Sexo') \n",
        "plt.figure(figsize=(15,6))\n",
        "#Mostrando o gráfico\n",
        "plt.show() "
      ],
      "execution_count": 0,
      "outputs": [
        {
          "output_type": "display_data",
          "data": {
            "image/png": "[encoded data removed]",
            "text/plain": [
              "<Figure size 432x288 with 1 Axes>"
            ]
          },
          "metadata": {
            "tags": []
          }
        },
        {
          "output_type": "display_data",
          "data": {
            "text/plain": [
              "<Figure size 1080x432 with 0 Axes>"
            ]
          },
          "metadata": {
            "tags": []
          }
        }
      ]
    },
    {
      "cell_type": "markdown",
      "metadata": {
        "id": "b7MYWDoO1D4Q",
        "colab_type": "text"
      },
      "source": [
        "Então observando o gráfico acima, vemos que existe uma certa diferença. Pois a porcentagem do Homem de ganhar mais de 50K por ano é maior do que a da mulher. É evidente de que muitas outras razões pode ter interferido nessa analise, mas já é mostra sim um certo indicio que o homem, em geral, ganha mais do que a mulher."
      ]
    },
    {
      "cell_type": "markdown",
      "metadata": {
        "id": "p7iE5zTWOSKv",
        "colab_type": "text"
      },
      "source": [
        "## 2ª Questão: Qual o impacto da escolaridade com o ganho. Pessoas que ganham mais de 50 mil dolares por ano, possuem escolaridade superior?"
      ]
    },
    {
      "cell_type": "markdown",
      "metadata": {
        "id": "TdSocqfLejw-",
        "colab_type": "text"
      },
      "source": [
        "A busca por entrar em uma universidade está muito ligado a questões financeiras, especialmente em nosso país, será que isso também acontece no nosso dataframe, e em um outro país??\n",
        "<br><br>Vamos descobrir!"
      ]
    },
    {
      "cell_type": "markdown",
      "metadata": {
        "id": "NLj00UydtyhX",
        "colab_type": "text"
      },
      "source": [
        "Primeiro separamos as pessoas que ganham mais que 50K por ano."
      ]
    },
    {
      "cell_type": "code",
      "metadata": {
        "id": "IpBz7wrUtxMe",
        "colab_type": "code",
        "outputId": "92565de4-f2a2-4fc2-8445-4ba3bc146ece",
        "colab": {
          "base_uri": "https://localhost:8080/",
          "height": 415
        }
      },
      "source": [
        "mascara_maior_50 = (data[\" -\"] == \" >50K\") #Crio a mascara\n",
        "data_maior = data.loc[mascara_maior_50, [\"Education\"]] #crio o dataframe\n",
        "data_maior"
      ],
      "execution_count": 0,
      "outputs": [
        {
          "output_type": "execute_result",
          "data": {
            "text/html": [
              "<div>\n",
              "<style scoped>\n",
              "    .dataframe tbody tr th:only-of-type {\n",
              "        vertical-align: middle;\n",
              "    }\n",
              "\n",
              "    .dataframe tbody tr th {\n",
              "        vertical-align: top;\n",
              "    }\n",
              "\n",
              "    .dataframe thead th {\n",
              "        text-align: right;\n",
              "    }\n",
              "</style>\n",
              "<table border=\"1\" class=\"dataframe\">\n",
              "  <thead>\n",
              "    <tr style=\"text-align: right;\">\n",
              "      <th></th>\n",
              "      <th>Education</th>\n",
              "    </tr>\n",
              "  </thead>\n",
              "  <tbody>\n",
              "    <tr>\n",
              "      <th>7</th>\n",
              "      <td>HS-grad</td>\n",
              "    </tr>\n",
              "    <tr>\n",
              "      <th>8</th>\n",
              "      <td>Masters</td>\n",
              "    </tr>\n",
              "    <tr>\n",
              "      <th>9</th>\n",
              "      <td>Bachelors</td>\n",
              "    </tr>\n",
              "    <tr>\n",
              "      <th>10</th>\n",
              "      <td>Some-college</td>\n",
              "    </tr>\n",
              "    <tr>\n",
              "      <th>11</th>\n",
              "      <td>Bachelors</td>\n",
              "    </tr>\n",
              "    <tr>\n",
              "      <th>...</th>\n",
              "      <td>...</td>\n",
              "    </tr>\n",
              "    <tr>\n",
              "      <th>32539</th>\n",
              "      <td>Doctorate</td>\n",
              "    </tr>\n",
              "    <tr>\n",
              "      <th>32545</th>\n",
              "      <td>Assoc-acdm</td>\n",
              "    </tr>\n",
              "    <tr>\n",
              "      <th>32554</th>\n",
              "      <td>Masters</td>\n",
              "    </tr>\n",
              "    <tr>\n",
              "      <th>32557</th>\n",
              "      <td>HS-grad</td>\n",
              "    </tr>\n",
              "    <tr>\n",
              "      <th>32560</th>\n",
              "      <td>HS-grad</td>\n",
              "    </tr>\n",
              "  </tbody>\n",
              "</table>\n",
              "<p>7841 rows × 1 columns</p>\n",
              "</div>"
            ],
            "text/plain": [
              "           Education\n",
              "7            HS-grad\n",
              "8            Masters\n",
              "9          Bachelors\n",
              "10      Some-college\n",
              "11         Bachelors\n",
              "...              ...\n",
              "32539      Doctorate\n",
              "32545     Assoc-acdm\n",
              "32554        Masters\n",
              "32557        HS-grad\n",
              "32560        HS-grad\n",
              "\n",
              "[7841 rows x 1 columns]"
            ]
          },
          "metadata": {
            "tags": []
          },
          "execution_count": 22
        }
      ]
    },
    {
      "cell_type": "markdown",
      "metadata": {
        "id": "FS-kUUcwt7Q-",
        "colab_type": "text"
      },
      "source": [
        "Dessa maneira, conseguimos em um novo dataframe, todas as pessoas que ganham mais que 50K, como podemos perceber chamamos ela de data_maior\n",
        "\n",
        "\n",
        "```\n",
        "data_maior\n",
        "```\n",
        "Se fizermos um gráfico desse dataframe, colocando os niveis de escolaridades, e as ocorrências de cada nível, teremos algo assim:\n"
      ]
    },
    {
      "cell_type": "code",
      "metadata": {
        "id": "5sEHo-pcuIIn",
        "colab_type": "code",
        "outputId": "31ac338e-ee41-4af4-86d4-3147c6e393f0",
        "colab": {
          "base_uri": "https://localhost:8080/",
          "height": 481
        }
      },
      "source": [
        "#A linha abaixo pode parecer complexa mas não é tanto assim. \n",
        "#Primeiro eu agrupo usando o groupby.\n",
        "#Após isso eu seleciono a coluna, que será o proprio Education.\n",
        "#Depois eu conto os valores da coluna selecionada. --> .value_counts()\n",
        "#Eu seleciono para ficar em ordem decrescente. --> .sort_values(ascending=False)\n",
        "#dentro do plot, eu defino o tipo do gráfico, o titulo e a cor.\n",
        "data_maior.groupby(['Education'])['Education'].value_counts().sort_values(ascending=False).plot(kind='bar', title = 'Número bruto de pessoas que ganham mais que 50k por nivel de escolaridade', color='#5dd97a')"
      ],
      "execution_count": 0,
      "outputs": [
        {
          "output_type": "execute_result",
          "data": {
            "text/plain": [
              "<matplotlib.axes._subplots.AxesSubplot at 0x7f22231ad240>"
            ]
          },
          "metadata": {
            "tags": []
          },
          "execution_count": 23
        },
        {
          "output_type": "display_data",
          "data": {
            "image/png": "[encoded data removed]",
            "text/plain": [
              "<Figure size 432x288 with 1 Axes>"
            ]
          },
          "metadata": {
            "tags": []
          }
        }
      ]
    },
    {
      "cell_type": "markdown",
      "metadata": {
        "id": "TlQ_8zD5uqn2",
        "colab_type": "text"
      },
      "source": [
        "O problema desse gráfico é que ele ignora as proporções, como Bachelors tem mais dados, nos dará a falsa impressão de que quem chega no Bachelors irá ganhar mais de que qualquer outro nivel de Escolaridade.\n",
        "<br><br> Dessa maneira, o que iremos fazer é deixar tudo em porcentagem, e assim conseguirmos enxergar melhor cada coluna."
      ]
    },
    {
      "cell_type": "code",
      "metadata": {
        "id": "ueiKjYHGvQ1i",
        "colab_type": "code",
        "outputId": "76e93879-4745-4524-db5c-92a52d6a9744",
        "colab": {
          "base_uri": "https://localhost:8080/",
          "height": 312
        }
      },
      "source": [
        "#Calculo da porcentagem\n",
        "np.porcentagem_mais = (data_maior[\"Education\"].value_counts() * 100) / data[\"Education\"].value_counts()\n",
        "np.porcentagem_mais.sort_values(ascending=False)"
      ],
      "execution_count": 0,
      "outputs": [
        {
          "output_type": "execute_result",
          "data": {
            "text/plain": [
              " Doctorate       74.092010\n",
              " Prof-school     73.437500\n",
              " Masters         55.658735\n",
              " Bachelors       41.475257\n",
              " Assoc-voc       26.121563\n",
              " Assoc-acdm      24.835989\n",
              " Some-college    19.023454\n",
              " HS-grad         15.950862\n",
              " 12th             7.621247\n",
              " 10th             6.645230\n",
              " 7th-8th          6.191950\n",
              " 9th              5.252918\n",
              " 11th             5.106383\n",
              " 5th-6th          4.804805\n",
              " 1st-4th          3.571429\n",
              " Preschool             NaN\n",
              "Name: Education, dtype: float64"
            ]
          },
          "metadata": {
            "tags": []
          },
          "execution_count": 24
        }
      ]
    },
    {
      "cell_type": "markdown",
      "metadata": {
        "id": "S7xvobGavqO6",
        "colab_type": "text"
      },
      "source": [
        "Agora, todos estão em porcentagem, conseguimos montar esse gráfico:"
      ]
    },
    {
      "cell_type": "code",
      "metadata": {
        "id": "8ZpB_ZMFvxnx",
        "colab_type": "code",
        "outputId": "69da4bc7-3e27-4d33-ec53-4bdb2275a4dc",
        "colab": {
          "base_uri": "https://localhost:8080/",
          "height": 371
        }
      },
      "source": [
        "#Plotagem do gráfico\n",
        "np.porcentagem_mais.sort_values(ascending=False).plot(kind='bar', title='Nível Educacional com mais pessoas com >50K', color='#5dd97a')"
      ],
      "execution_count": 0,
      "outputs": [
        {
          "output_type": "execute_result",
          "data": {
            "text/plain": [
              "<matplotlib.axes._subplots.AxesSubplot at 0x7f222193d400>"
            ]
          },
          "metadata": {
            "tags": []
          },
          "execution_count": 25
        },
        {
          "output_type": "display_data",
          "data": {
            "image/png": "[encoded data removed]",
            "text/plain": [
              "<Figure size 432x288 with 1 Axes>"
            ]
          },
          "metadata": {
            "tags": []
          }
        }
      ]
    },
    {
      "cell_type": "markdown",
      "metadata": {
        "id": "mSiW33Csv6ez",
        "colab_type": "text"
      },
      "source": [
        "Agora sim temos algo que se assemelha mais com a realidade, onde constatamos que mais de 70% das pessoas com Doutorados ganham mais de 50K por ano.\n",
        "<br><br>Agora iremos fazer o mesmo procedimento só que com as pessoas que ganham <=50K "
      ]
    },
    {
      "cell_type": "code",
      "metadata": {
        "id": "MLrhInM8TcW5",
        "colab_type": "code",
        "colab": {}
      },
      "source": [
        "#Criação do dataframe e calculo da porcentagem\n",
        "mascara_menor_50 = (data[\" -\"] == \" <=50K\")\n",
        "data_menor = data.loc[mascara_menor_50, [\"Education\"]]\n",
        "np.porcentagem_data_menor = (data_menor[\"Education\"].value_counts() * 100) / data[\"Education\"].value_counts()"
      ],
      "execution_count": 0,
      "outputs": []
    },
    {
      "cell_type": "markdown",
      "metadata": {
        "id": "F-VJMdxDxFWw",
        "colab_type": "text"
      },
      "source": [
        "Temos primeiramente o gráfico com o número de ocorrências bruto."
      ]
    },
    {
      "cell_type": "code",
      "metadata": {
        "id": "hRBdKepVxNxg",
        "colab_type": "code",
        "outputId": "d27d6ffd-7626-4cbb-a531-ae5f91cf452d",
        "colab": {
          "base_uri": "https://localhost:8080/",
          "height": 481
        }
      },
      "source": [
        "#Plotagem do gráfico\n",
        "title=\"Numero bruto de Pessoas que ganham menos de 50K, pelo seu Nível de Escolaridade\"\n",
        "data_menor.groupby(['Education'])['Education'].value_counts().sort_values(ascending=False).plot(kind='bar', color='#ff5e5e', title = title)"
      ],
      "execution_count": 0,
      "outputs": [
        {
          "output_type": "execute_result",
          "data": {
            "text/plain": [
              "<matplotlib.axes._subplots.AxesSubplot at 0x7f2222c6c7f0>"
            ]
          },
          "metadata": {
            "tags": []
          },
          "execution_count": 27
        },
        {
          "output_type": "display_data",
          "data": {
            "image/png": "[encoded data removed]",
            "text/plain": [
              "<Figure size 432x288 with 1 Axes>"
            ]
          },
          "metadata": {
            "tags": []
          }
        }
      ]
    },
    {
      "cell_type": "markdown",
      "metadata": {
        "id": "yOcQbMoHxQGv",
        "colab_type": "text"
      },
      "source": [
        "E o gráfico com as porcentagens:"
      ]
    },
    {
      "cell_type": "code",
      "metadata": {
        "id": "zNHJcRj7xESl",
        "colab_type": "code",
        "outputId": "c9d9cb76-47eb-431b-d14f-64928d2afb83",
        "colab": {
          "base_uri": "https://localhost:8080/",
          "height": 371
        }
      },
      "source": [
        "#Plotagem do gráfico.\n",
        "title=\"Numero em % de Pessoas que ganham menos de 50K, pelo seu Nível de Escolaridade\"\n",
        "np.porcentagem_data_menor.sort_values(ascending=True).plot(kind='bar', color='#ff5e5e', title=title)"
      ],
      "execution_count": 0,
      "outputs": [
        {
          "output_type": "execute_result",
          "data": {
            "text/plain": [
              "<matplotlib.axes._subplots.AxesSubplot at 0x7f222186c898>"
            ]
          },
          "metadata": {
            "tags": []
          },
          "execution_count": 28
        },
        {
          "output_type": "display_data",
          "data": {
            "image/png": "[encoded data removed]",
            "text/plain": [
              "<Figure size 432x288 with 1 Axes>"
            ]
          },
          "metadata": {
            "tags": []
          }
        }
      ]
    },
    {
      "cell_type": "markdown",
      "metadata": {
        "id": "ZrmrNmRrxU-t",
        "colab_type": "text"
      },
      "source": [
        "Observe-se que esse gráfico é como se fosse o oposto do gráfico que analisamos das pessoas que ganhavam mais de 50K.\n",
        "<br><br>\n",
        "E tirando como conclusão, conseguimos ver que pessoas que estudam mais, ou seja, chegam ao doutorado, mestrado conseguem obter uma rendar por ano maior. A surpresa da analise é o Prof-school, que quase obteve melhor proporção do que o doutorado."
      ]
    },
    {
      "cell_type": "markdown",
      "metadata": {
        "id": "W_ls0lpX63jj",
        "colab_type": "text"
      },
      "source": [
        "## 3ª Questão: Qual é a relação entre a IDADE e o GANHO."
      ]
    },
    {
      "cell_type": "markdown",
      "metadata": {
        "id": "86ZVayOn7Ocn",
        "colab_type": "text"
      },
      "source": [
        "Pra começarmos nossa analise veremos qual é a idade minima presente nos nossos dados."
      ]
    },
    {
      "cell_type": "code",
      "metadata": {
        "id": "_8YwEcYs7Ni6",
        "colab_type": "code",
        "outputId": "84fb84fb-ae69-42e4-e687-68602b430b9f",
        "colab": {
          "base_uri": "https://localhost:8080/",
          "height": 35
        }
      },
      "source": [
        "data.Age.min()"
      ],
      "execution_count": 0,
      "outputs": [
        {
          "output_type": "execute_result",
          "data": {
            "text/plain": [
              "17"
            ]
          },
          "metadata": {
            "tags": []
          },
          "execution_count": 29
        }
      ]
    },
    {
      "cell_type": "markdown",
      "metadata": {
        "id": "64-Yz5qR7X_0",
        "colab_type": "text"
      },
      "source": [
        "Agora, veremos qual a idade máxima."
      ]
    },
    {
      "cell_type": "code",
      "metadata": {
        "id": "60RYlyL67c0l",
        "colab_type": "code",
        "outputId": "fdab67f9-8afc-47bc-e3a0-362c87d7a282",
        "colab": {
          "base_uri": "https://localhost:8080/",
          "height": 35
        }
      },
      "source": [
        "data.Age.max()"
      ],
      "execution_count": 0,
      "outputs": [
        {
          "output_type": "execute_result",
          "data": {
            "text/plain": [
              "90"
            ]
          },
          "metadata": {
            "tags": []
          },
          "execution_count": 30
        }
      ]
    },
    {
      "cell_type": "markdown",
      "metadata": {
        "id": "_VfVfsXU7lBi",
        "colab_type": "text"
      },
      "source": [
        "WOW, temos uma diferença de 73 anos da idade minima para a máxima. Vamos ver a média."
      ]
    },
    {
      "cell_type": "code",
      "metadata": {
        "id": "yzpFv_DS70KF",
        "colab_type": "code",
        "outputId": "907366d8-4e53-4452-d6fe-800f14b44bbf",
        "colab": {
          "base_uri": "https://localhost:8080/",
          "height": 35
        }
      },
      "source": [
        "data.Age.mean()"
      ],
      "execution_count": 0,
      "outputs": [
        {
          "output_type": "execute_result",
          "data": {
            "text/plain": [
              "38.58164675532078"
            ]
          },
          "metadata": {
            "tags": []
          },
          "execution_count": 31
        }
      ]
    },
    {
      "cell_type": "markdown",
      "metadata": {
        "id": "7jDBXU5d74Zv",
        "colab_type": "text"
      },
      "source": [
        "Temos uma média de 38. Vamos ver mais informações com o desribe."
      ]
    },
    {
      "cell_type": "code",
      "metadata": {
        "id": "PPfFoYPe7-4_",
        "colab_type": "code",
        "outputId": "f0c40fe3-afb5-4dfb-931e-a64cbb3d8fa6",
        "colab": {
          "base_uri": "https://localhost:8080/",
          "height": 173
        }
      },
      "source": [
        "data.Age.describe()"
      ],
      "execution_count": 0,
      "outputs": [
        {
          "output_type": "execute_result",
          "data": {
            "text/plain": [
              "count    32561.000000\n",
              "mean        38.581647\n",
              "std         13.640433\n",
              "min         17.000000\n",
              "25%         28.000000\n",
              "50%         37.000000\n",
              "75%         48.000000\n",
              "max         90.000000\n",
              "Name: Age, dtype: float64"
            ]
          },
          "metadata": {
            "tags": []
          },
          "execution_count": 32
        }
      ]
    },
    {
      "cell_type": "markdown",
      "metadata": {
        "id": "pkxEGF4K8JrC",
        "colab_type": "text"
      },
      "source": [
        "Com o describe, descobrimos que a mediana do nosso conjunto de dados é 37. Para conseguirmos entender melhor essa visão, vamos construir um gráfico para mostrar a quantidade de pessoas que possuem idades entre:\n",
        "\n",
        "*   17~27\n",
        "*   28~38\n",
        "*   39~49\n",
        "*   50~60\n",
        "*   61~90\n",
        "\n"
      ]
    },
    {
      "cell_type": "code",
      "metadata": {
        "id": "In44afxs89hp",
        "colab_type": "code",
        "outputId": "524f110b-e0c5-41fb-8dfc-522de511750c",
        "colab": {
          "base_uri": "https://localhost:8080/",
          "height": 35
        }
      },
      "source": [
        "#Iremos constuir o gráfico da seguinte maneira.\n",
        "#Primeiro irei criar varios dataframes com as idades nos intervalos definidos.\n",
        "df1 = data.loc[((data.Age>=17)&(data.Age<=27)), [\"Age\",\" -\"]]\n",
        "df2 = data.loc[((data.Age>=28)&(data.Age<=38)), [\"Age\",\" -\"]]\n",
        "df3 = data.loc[((data.Age>=39)&(data.Age<=49)), [\"Age\",\" -\"]]\n",
        "df4 = data.loc[((data.Age>=50)&(data.Age<=60)), [\"Age\",\" -\"]]\n",
        "df5 = data.loc[((data.Age>=61)&(data.Age<=90)), [\"Age\",\" -\"]]\n",
        "#Vamos verificar, se não deixamos ninguem para trás, ou se pegamos dados a mais,\n",
        "#Com isso o print a seguir deve apresentar o numero: 32561 (esse é o numero de entradas do nosso dataframe)\n",
        "print(df1.shape[0] + df2.shape[0] + df3.shape[0] + df4.shape[0] + df5.shape[0])"
      ],
      "execution_count": 0,
      "outputs": [
        {
          "output_type": "stream",
          "text": [
            "32561\n"
          ],
          "name": "stdout"
        }
      ]
    },
    {
      "cell_type": "code",
      "metadata": {
        "id": "nojzavk6-i2W",
        "colab_type": "code",
        "outputId": "ebdb3f75-5a5b-44a0-facf-5532f9a5e7bf",
        "colab": {
          "base_uri": "https://localhost:8080/",
          "height": 319
        }
      },
      "source": [
        "#Agora, vamos plotar o Gráfico com os df que temos.\n",
        "#Definindo a quantidade de barras, no nosso caso é 5\n",
        "left = [1, 2, 3, 4, 5]\n",
        "\n",
        "#Definindo as alturas de cada barra, que no nosso caso é a qtd de linhas de cada\n",
        "#dataframe\n",
        "height = [df1.shape[0], df2.shape[0], df3.shape[0], df4.shape[0], df5.shape[0]] \n",
        "  \n",
        "#Legendando cada barra\n",
        "tick_label = ['17~27', '28~38', '39~49','50~60' ,'61~90'] \n",
        "  \n",
        "#Plotando o gráfico\n",
        "plt.bar(left, height, tick_label = tick_label, \n",
        "        width = 0.6, color = ['#ff5e5e']) \n",
        "#Nomeando o eixo X \n",
        "plt.xlabel('Recorte') \n",
        "#Nomeando o eixo Y\n",
        "plt.ylabel('Número de entradas') \n",
        "#Nomeando o Titulo\n",
        "plt.title('Distribuição do nosso dataframe') \n",
        "plt.figure(figsize=(15,6))\n",
        "#Mostrando o gráfico\n",
        "plt.show() "
      ],
      "execution_count": 0,
      "outputs": [
        {
          "output_type": "display_data",
          "data": {
            "image/png": "[encoded data removed]",
            "text/plain": [
              "<Figure size 432x288 with 1 Axes>"
            ]
          },
          "metadata": {
            "tags": []
          }
        },
        {
          "output_type": "display_data",
          "data": {
            "text/plain": [
              "<Figure size 1080x432 with 0 Axes>"
            ]
          },
          "metadata": {
            "tags": []
          }
        }
      ]
    },
    {
      "cell_type": "markdown",
      "metadata": {
        "id": "axL9bIfFBEYU",
        "colab_type": "text"
      },
      "source": [
        "Criando o gráfico conseguimos entender do porquê da mediana ter dado 37, conseguimos enxergar que a nossa distribuição está a esquerda.\n",
        "<br> Agora utilizando o mesmo recorte, vamos ver quantos ganham mais que 50K por ano, e quantos ganham menos que 50K."
      ]
    },
    {
      "cell_type": "code",
      "metadata": {
        "id": "qrntX2ztCpHI",
        "colab_type": "code",
        "colab": {}
      },
      "source": [
        "#Aqui iremos criar os recortes de todos que possuem mais que 50K\n",
        "r1maior50 = df1.loc[(df1[\" -\"] == \" >50K\"), [\"Age\",\" -\"]]\n",
        "r2maior50 = df2.loc[(df2[\" -\"] == \" >50K\"), [\"Age\",\" -\"]]\n",
        "r3maior50 = df3.loc[(df3[\" -\"] == \" >50K\"), [\"Age\",\" -\"]]\n",
        "r4maior50 = df4.loc[(df4[\" -\"] == \" >50K\"), [\"Age\",\" -\"]]\n",
        "r5maior50 = df5.loc[(df5[\" -\"] == \" >50K\"), [\"Age\",\" -\"]]\n",
        "recorte_maior = np.array((r1maior50.shape[0] , r2maior50.shape[0] , r3maior50.shape[0] , r4maior50.shape[0] , r5maior50.shape[0]))\n",
        "#Aqui iremos criar os recortes de todos que possuem menos que 50K\n",
        "r1menor50 = df1.loc[(df1[\" -\"] == \" <=50K\"), [\"Age\",\" -\"]]\n",
        "r2menor50 = df2.loc[(df2[\" -\"] == \" <=50K\"), [\"Age\",\" -\"]]\n",
        "r3menor50 = df3.loc[(df3[\" -\"] == \" <=50K\"), [\"Age\",\" -\"]]\n",
        "r4menor50 = df4.loc[(df4[\" -\"] == \" <=50K\"), [\"Age\",\" -\"]]\n",
        "r5menor50 = df5.loc[(df5[\" -\"] == \" <=50K\"), [\"Age\",\" -\"]]\n",
        "recorte_menor = np.array((r1menor50.shape[0] , r2menor50.shape[0] , r3menor50.shape[0] , r4menor50.shape[0] , r5menor50.shape[0]))"
      ],
      "execution_count": 0,
      "outputs": []
    },
    {
      "cell_type": "code",
      "metadata": {
        "id": "f0xvLTN8H3d3",
        "colab_type": "code",
        "outputId": "4e0a9d8d-2dff-4287-9077-4d3d34300a4b",
        "colab": {
          "base_uri": "https://localhost:8080/",
          "height": 389
        }
      },
      "source": [
        "#Criando as legendas\n",
        "legenda_recortes = ['17~27', '28~38', '39~49','50~60' ,'61~90']\n",
        "#Definindo o tamanho\n",
        "plt.figure(figsize=(15,6))\n",
        "#Criando as barras\n",
        "plt.bar(legenda_recortes,recorte_maior, color='#5dd97a')\n",
        "plt.bar(legenda_recortes,recorte_menor, color='#ff5e5e', bottom = recorte_maior)\n",
        "#Legendando o eixo X\n",
        "plt.xlabel('Recortes')\n",
        "#Legendando o eixo Y\n",
        "plt.ylabel('Número de entradas')\n",
        "#Legendando o titulo\n",
        "plt.title('Gráfico Completo')\n",
        "#Criando a Legenda\n",
        "plt.legend(('>50K','<=50K'))\n",
        "#Exibindo o gráfico\n",
        "plt.show()"
      ],
      "execution_count": 0,
      "outputs": [
        {
          "output_type": "display_data",
          "data": {
            "image/png": "[encoded data removed]",
            "text/plain": [
              "<Figure size 1080x432 with 1 Axes>"
            ]
          },
          "metadata": {
            "tags": []
          }
        }
      ]
    },
    {
      "cell_type": "markdown",
      "metadata": {
        "id": "RRm8vqmCT5eO",
        "colab_type": "text"
      },
      "source": [
        ""
      ]
    },
    {
      "cell_type": "markdown",
      "metadata": {
        "id": "exWz0rtHNqU3",
        "colab_type": "text"
      },
      "source": [
        "Bem com esse gráfico conseguimos ver que a maioria de quem recebe mais de 50K está localizado na idade de 39 a 49 anos.\n",
        "<br>Veja mais detalhes no print a seguir."
      ]
    },
    {
      "cell_type": "code",
      "metadata": {
        "id": "rcaKKlgzOBuO",
        "colab_type": "code",
        "outputId": "c1de3f1b-2c20-4c0c-adbf-95656d85c355",
        "colab": {
          "base_uri": "https://localhost:8080/",
          "height": 260
        }
      },
      "source": [
        "print('Existem ', r1maior50.shape[0],' pessoas da idade de 17~27 anos, que recebem mais de 50K por ano')\n",
        "print('Existem ', r1menor50.shape[0],' pessoas da idade de 17~27 anos, que recebem menos de 50K por ano')\n",
        "print()\n",
        "print('Existem ', r2maior50.shape[0],' pessoas da idade de 28~38 anos, que recebem mais de 50K por ano')\n",
        "print('Existem ', r2menor50.shape[0],' pessoas da idade de 28~38 anos, que recebem menos de 50K por ano')\n",
        "print()\n",
        "print('Existem ', r3maior50.shape[0],' pessoas da idade de 39~49 anos, que recebem mais de 50K por ano')\n",
        "print('Existem ', r3menor50.shape[0],' pessoas da idade de 39~49 anos, que recebem menos de 50K por ano')\n",
        "print()\n",
        "print('Existem ', r4maior50.shape[0],' pessoas da idade de 50~60 anos, que recebem mais de 50K por ano')\n",
        "print('Existem ', r4menor50.shape[0],' pessoas da idade de 50~60 anos, que recebem menos de 50K por ano')\n",
        "print()\n",
        "print('Existem ', r5maior50.shape[0],' pessoas da idade de 61~90 anos, que recebem mais de 50K por ano')\n",
        "print('Existem ', r5menor50.shape[0],' pessoas da idade de 61~90 anos, que recebem menos de 50K por ano')"
      ],
      "execution_count": 0,
      "outputs": [
        {
          "output_type": "stream",
          "text": [
            "Existem  258  pessoas da idade de 17~27 anos, que recebem mais de 50K por ano\n",
            "Existem  7773  pessoas da idade de 17~27 anos, que recebem menos de 50K por ano\n",
            "\n",
            "Existem  2284  pessoas da idade de 28~38 anos, que recebem mais de 50K por ano\n",
            "Existem  7193  pessoas da idade de 28~38 anos, que recebem menos de 50K por ano\n",
            "\n",
            "Existem  2940  pessoas da idade de 39~49 anos, que recebem mais de 50K por ano\n",
            "Existem  5051  pessoas da idade de 39~49 anos, que recebem menos de 50K por ano\n",
            "\n",
            "Existem  1808  pessoas da idade de 50~60 anos, que recebem mais de 50K por ano\n",
            "Existem  2922  pessoas da idade de 50~60 anos, que recebem menos de 50K por ano\n",
            "\n",
            "Existem  551  pessoas da idade de 61~90 anos, que recebem mais de 50K por ano\n",
            "Existem  1781  pessoas da idade de 61~90 anos, que recebem menos de 50K por ano\n"
          ],
          "name": "stdout"
        }
      ]
    },
    {
      "cell_type": "markdown",
      "metadata": {
        "id": "Amz8znoHOv1a",
        "colab_type": "text"
      },
      "source": [
        "Para finalizarmos, vamos ver a porcentagem em cada recorte de idade."
      ]
    },
    {
      "cell_type": "code",
      "metadata": {
        "id": "Sy_UiAwCO2kY",
        "colab_type": "code",
        "colab": {}
      },
      "source": [
        "porcentagem_df1_maior = (r1maior50.shape[0]*100) / df1.shape[0]\n",
        "porcentagem_df2_maior = (r2maior50.shape[0]*100) / df2.shape[0]\n",
        "porcentagem_df3_maior = (r3maior50.shape[0]*100) / df3.shape[0]\n",
        "porcentagem_df4_maior = (r4maior50.shape[0]*100) / df4.shape[0]\n",
        "porcentagem_df5_maior = (r5maior50.shape[0]*100) / df5.shape[0]"
      ],
      "execution_count": 0,
      "outputs": []
    },
    {
      "cell_type": "code",
      "metadata": {
        "id": "hakt7FALPGjQ",
        "colab_type": "code",
        "colab": {}
      },
      "source": [
        "porcentagem_df1_menor = (r1menor50.shape[0]*100) / df1.shape[0]\n",
        "porcentagem_df2_menor = (r2menor50.shape[0]*100) / df2.shape[0]\n",
        "porcentagem_df3_menor = (r3menor50.shape[0]*100) / df3.shape[0]\n",
        "porcentagem_df4_menor = (r4menor50.shape[0]*100) / df4.shape[0]\n",
        "porcentagem_df5_menor = (r5menor50.shape[0]*100) / df5.shape[0]"
      ],
      "execution_count": 0,
      "outputs": []
    },
    {
      "cell_type": "code",
      "metadata": {
        "id": "H3MIuKwwPtIS",
        "colab_type": "code",
        "outputId": "ec8ac9b8-c7d4-42e9-9dac-e22b6ea79ad5",
        "colab": {
          "base_uri": "https://localhost:8080/",
          "height": 381
        }
      },
      "source": [
        "print('Finalizando: ')\n",
        "print()\n",
        "print('Das pessoas entre 17~27 anos:')\n",
        "print(round(porcentagem_df1_maior,2),'% recebem mais de 50K por ano')\n",
        "print(round(porcentagem_df1_menor,2),'% recebem menos de 50K por ano')\n",
        "print()\n",
        "print('Das pessoas entre 28~38 anos:')\n",
        "print(round(porcentagem_df2_maior,2),'% recebem mais de 50K por ano')\n",
        "print(round(porcentagem_df2_menor,2),'% recebem menos de 50K por ano')\n",
        "print()\n",
        "print('Das pessoas entre 39~49 anos:')\n",
        "print(round(porcentagem_df3_maior,2),'% recebem mais de 50K por ano')\n",
        "print(round(porcentagem_df3_menor,2),'% recebem menos de 50K por ano')\n",
        "print()\n",
        "print('Das pessoas entre 50~60 anos:')\n",
        "print(round(porcentagem_df4_maior,2),'% recebem mais de 50K por ano')\n",
        "print(round(porcentagem_df4_menor,2),'% recebem menos de 50K por ano')\n",
        "print()\n",
        "print('Das pessoas entre 61~90 anos:')\n",
        "print(round(porcentagem_df5_maior,2),'% recebem mais de 50K por ano')\n",
        "print(round(porcentagem_df5_menor,2),'% recebem menos de 50K por ano')"
      ],
      "execution_count": 0,
      "outputs": [
        {
          "output_type": "stream",
          "text": [
            "Finalizando: \n",
            "\n",
            "Das pessoas entre 17~27 anos:\n",
            "3.21 % recebem mais de 50K por ano\n",
            "96.79 % recebem menos de 50K por ano\n",
            "\n",
            "Das pessoas entre 28~38 anos:\n",
            "24.1 % recebem mais de 50K por ano\n",
            "75.9 % recebem menos de 50K por ano\n",
            "\n",
            "Das pessoas entre 39~49 anos:\n",
            "36.79 % recebem mais de 50K por ano\n",
            "63.21 % recebem menos de 50K por ano\n",
            "\n",
            "Das pessoas entre 50~60 anos:\n",
            "38.22 % recebem mais de 50K por ano\n",
            "61.78 % recebem menos de 50K por ano\n",
            "\n",
            "Das pessoas entre 61~90 anos:\n",
            "23.63 % recebem mais de 50K por ano\n",
            "76.37 % recebem menos de 50K por ano\n"
          ],
          "name": "stdout"
        }
      ]
    },
    {
      "cell_type": "markdown",
      "metadata": {
        "id": "fdQUGr-8RvZc",
        "colab_type": "text"
      },
      "source": [
        "Ótimo, conseguimos ver que pessoas com idade de 50-60 anos, tem uma porcentagem de receberem mais. Porém em números brutos, é entre 39-49."
      ]
    },
    {
      "cell_type": "markdown",
      "metadata": {
        "id": "FWnZqSgTgo0U",
        "colab_type": "text"
      },
      "source": [
        "Então concluindo essa 3ª questão, o que podemos analisar, é que muitas pessoas chegam no seu ápice em ganho anual com 39~60 anos, e parece que isso vai decaindo com o tempo. Isso pode estar relacionado com as políticas de aposentadoria de um país, ou de determinado **boom** financeiro de uma geração. Muitos fatores podem estar influenciando esses índices, seria necessário uma análise mais aprofundada para termos resultados mais precisos, com pesquisas mais complexas."
      ]
    },
    {
      "cell_type": "markdown",
      "metadata": {
        "id": "uyej1G4ItldX",
        "colab_type": "text"
      },
      "source": [
        "# Bibliografia"
      ]
    },
    {
      "cell_type": "markdown",
      "metadata": {
        "id": "C06K0GeBtrn6",
        "colab_type": "text"
      },
      "source": [
        "* [Adult Data Set](https://archive.ics.uci.edu/ml/datasets/Adult)\n",
        "* [Pesquisa do IBGE mostra que mulher ganha menos em todas as ocupações](https://agenciabrasil.ebc.com.br/geral/noticia/2019-03/pesquisa-do-ibge-mostra-que-mulher-ganha-menos-em-todas-ocupacoes)\n",
        "* [Mulheres ainda ganham 20,5% a menos do que homens, diz IBGE](https://noticias.r7.com/economia/mulheres-ainda-ganham-205-a-menos-do-que-homens-diz-ibge-08032019)\n",
        "* [Mesmo com maior grau de escolaridade, mulheres ganham menos que homens](https://www.catho.com.br/carreira-sucesso/colunistas/noticias/mesmo-com-maior-grau-de-escolaridade-mulheres-ganham-menos-que-homens/)\n",
        "* [EUA: diferença salarial entre homens e mulheres só deve desaparecer em 135 anos](https://agenciabrasil.ebc.com.br/direitos-humanos/noticia/2017-03/eua-diferenca-salarial-entre-homens-e-mulheres-so-deve-desaparecer)\n",
        "* [Pesquisa revela motivações e barreiras para entrar na faculdade](https://guiadoestudante.abril.com.br/orientacao-profissional/pesquisa-revela-motivacoes-e-barreiras-para-entrar-na-faculdade/)\n",
        "* [Plotagem de Gráfico 1](https://www.geeksforgeeks.org/graph-plotting-in-python-set-1/)\n",
        "* [Plotagem de Gráfico 2](https://medium.com/horadecodar/gr%C3%A1ficos-de-barra-com-matplotlib-85628bfc4351)"
      ]
    },
    {
      "cell_type": "code",
      "metadata": {
        "id": "uJ800TumRpnb",
        "colab_type": "code",
        "colab": {}
      },
      "source": [
        ""
      ],
      "execution_count": 0,
      "outputs": []
    }
  ]
}